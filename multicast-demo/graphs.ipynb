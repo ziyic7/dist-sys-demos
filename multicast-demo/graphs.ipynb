{
  "cells": [
    {
      "cell_type": "code",
      "execution_count": 76,
      "metadata": {
        "colab": {
          "base_uri": "https://localhost:8080/"
        },
        "id": "8rNOfQypNuGQ",
        "outputId": "8a627a1a-2e72-481d-b73a-8b76a9358dc0"
      },
      "outputs": [
        {
          "name": "stdout",
          "output_type": "stream",
          "text": [
            "Collecting scipy\n",
            "  Downloading scipy-1.10.1-cp39-cp39-macosx_10_9_x86_64.whl (35.2 MB)\n",
            "\u001b[K     |████████████████████████████████| 35.2 MB 6.7 MB/s eta 0:00:01\n",
            "\u001b[?25hRequirement already satisfied: numpy<1.27.0,>=1.19.5 in /Users/ajosh/opt/anaconda3/envs/a2/lib/python3.9/site-packages (from scipy) (1.24.1)\n",
            "Installing collected packages: scipy\n",
            "Successfully installed scipy-1.10.1\n",
            "Note: you may need to restart the kernel to use updated packages.\n"
          ]
        }
      ],
      "source": [
        "\n",
        "pip install scipy"
      ]
    },
    {
      "cell_type": "code",
      "execution_count": 1,
      "metadata": {},
      "outputs": [],
      "source": [
        "import matplotlib.pyplot as plt\n",
        "import csv\n",
        "import os\n",
        "import numpy as np\n"
      ]
    },
    {
      "cell_type": "code",
      "execution_count": 65,
      "metadata": {},
      "outputs": [
        {
          "ename": "ValueError",
          "evalue": "operands could not be broadcast together with shapes (605,) (220,) ",
          "output_type": "error",
          "traceback": [
            "\u001b[0;31m---------------------------------------------------------------------------\u001b[0m",
            "\u001b[0;31mValueError\u001b[0m                                Traceback (most recent call last)",
            "Cell \u001b[0;32mIn[65], line 24\u001b[0m\n\u001b[1;32m     21\u001b[0m g_arr \u001b[39m=\u001b[39m np\u001b[39m.\u001b[39msort(g_arr) \u001b[39m# sort in ascending\u001b[39;00m\n\u001b[1;32m     23\u001b[0m t_dif \u001b[39m=\u001b[39m np\u001b[39m.\u001b[39marray([])\n\u001b[0;32m---> 24\u001b[0m t_dif \u001b[39m=\u001b[39m p_arr \u001b[39m-\u001b[39;49m g_arr\n",
            "\u001b[0;31mValueError\u001b[0m: operands could not be broadcast together with shapes (605,) (220,) "
          ]
        }
      ],
      "source": [
        "#3 nodes , node3 fails \n",
        "fpath = \"test/data/graph\" #change path to test1 or test2\n",
        "if os.path.basename(os.getcwd()) != 'graph':\n",
        "    os.chdir(fpath)\n",
        "\n",
        "g1,g2,g3 =(\"\",)*3\n",
        "p1,p2,p3 =(\"\",)*3\n",
        "p_arr1,p_arr2,p_arr3 =(\"\",)*3\n",
        "g_arr = np.array([])\n",
        "for i in range(3):\n",
        "    locals()[\"g\"+str(i+1)] = \"gen/\"+\"node\" +str(i+1)+\"_gen\" +\".txt\"\n",
        "    locals()[\"p\"+str(i+1)] = \"pro/\"+\"node\" +str(i+1)+\"_pro\" +\".txt\"\n",
        "    g_arr = np.append(g_arr,np.loadtxt(locals()[\"g\"+str(i+1)], dtype='float64'))\n",
        "    locals()[\"p_arr\"+str(i+1)] = np.loadtxt(locals()[\"p\"+str(i+1)], dtype='float64')\n",
        "\n",
        "p_arr = np.zeros(len(p_arr1)) #max of p_arrx\n",
        "#get max time of nodes \n",
        "for i in range(len(p_arr1)):\n",
        "   p_arr[i] =  max(p_arr1[i],p_arr2[i]) #max(p_arr1[i],p_arr2[i],p_arr3[i])assumes that node 3 is a failed node\n",
        "\n",
        "g_arr = np.sort(g_arr) # sort in ascending\n",
        "\n",
        "t_dif = np.array([])\n",
        "t_dif = p_arr - g_arr"
      ]
    },
    {
      "cell_type": "code",
      "execution_count": 85,
      "metadata": {},
      "outputs": [],
      "source": [
        "#3 nodes , none fail\n",
        "fpath = \"test/data/graph\" #change path to test1 or test2\n",
        "if os.path.basename(os.getcwd()) != 'graph':\n",
        "    os.chdir(fpath)\n",
        "\n",
        "g1,g2,g3 =(\"\",)*3\n",
        "p1,p2,p3 =(\"\",)*3\n",
        "p_arr1,p_arr2,p_arr3 =(\"\",)*3\n",
        "g_arr = np.array([])\n",
        "for i in range(3):\n",
        "    locals()[\"g\"+str(i+1)] = \"gen/\"+\"node\" +str(i+1)+\"_gen\" +\".txt\"\n",
        "    locals()[\"p\"+str(i+1)] = \"pro/\"+\"node\" +str(i+1)+\"_pro\" +\".txt\"\n",
        "    g_arr = np.append(g_arr,np.loadtxt(locals()[\"g\"+str(i+1)], dtype='float64'))\n",
        "    locals()[\"p_arr\"+str(i+1)] = np.loadtxt(locals()[\"p\"+str(i+1)], dtype='float64')\n",
        "\n",
        "p_arr = np.zeros(len(p_arr1)) #max of p_arrx\n",
        "#get max time of nodes \n",
        "for i in range(len(p_arr1)):\n",
        "   p_arr[i] = max(p_arr1[i],p_arr2[i],p_arr3[i]) \n",
        "g_arr = np.sort(g_arr) # sort in ascending\n",
        "\n",
        "t_dif = np.array([])\n",
        "t_dif = p_arr - g_arr"
      ]
    },
    {
      "cell_type": "code",
      "execution_count": null,
      "metadata": {},
      "outputs": [],
      "source": [
        "#8 nodes , node 1,2,3 fail\n",
        "fpath = \"test/data/graph\" #change path to test1 or test2\n",
        "if os.path.basename(os.getcwd()) != 'graph':\n",
        "    os.chdir(fpath)\n",
        "\n",
        "g1,g2,g3,g4,g5,g6,g7,g8 =(\"\",)*8\n",
        "p1,p2,p3,p4,p5,p6,p7,p8 =(\"\",)*8\n",
        "p_arr1,p_arr2,p_arr3,p_arr4,p_arr5,p_arr6,p_arr7,p_arr8=(\"\",)*8\n",
        "g_arr = np.array([])\n",
        "for i in range(8):\n",
        "    locals()[\"g\"+str(i+1)] = \"gen/\"+\"node\" +str(i+1)+\"_gen\" +\".txt\"\n",
        "    locals()[\"p\"+str(i+1)] = \"pro/\"+\"node\" +str(i+1)+\"_pro\" +\".txt\"\n",
        "    g_arr = np.append(g_arr,np.loadtxt(locals()[\"g\"+str(i+1)], dtype='float64'))\n",
        "    locals()[\"p_arr\"+str(i+1)] = np.loadtxt(locals()[\"p\"+str(i+1)], dtype='float64')\n",
        "\n",
        "p_arr = np.zeros(len(p_arr1)) #max of p_arrx\n",
        "#get max time of nodes \n",
        "for i in range(len(p_arr1)):\n",
        "   p_arr[i] =  max(p_arr4[i],p_arr5[i],p_arr6[i],p_arr7[i],p_arr8[i])  \n",
        "g_arr = np.sort(g_arr)\n",
        "\n",
        "t_dif = np.array([])\n",
        "t_dif = p_arr - g_arr\n"
      ]
    },
    {
      "cell_type": "code",
      "execution_count": 4,
      "metadata": {},
      "outputs": [
        {
          "data": {
            "text/plain": [
              "False"
            ]
          },
          "execution_count": 4,
          "metadata": {},
          "output_type": "execute_result"
        }
      ],
      "source": [
        "#8 nodes , none fail\n",
        "fpath = \"test/data/graph\" #change path to test1 or test2\n",
        "if os.path.basename(os.getcwd()) != 'graph':\n",
        "    os.chdir(fpath)\n",
        "\n",
        "g1,g2,g3,g4,g5,g6,g7,g8 =(\"\",)*8\n",
        "p1,p2,p3,p4,p5,p6,p7,p8 =(\"\",)*8\n",
        "p_arr1,p_arr2,p_arr3,p_arr4,p_arr5,p_arr6,p_arr7,p_arr8=(\"\",)*8\n",
        "g_arr = np.array([])\n",
        "for i in range(8):\n",
        "    locals()[\"g\"+str(i+1)] = \"gen/\"+\"node\" +str(i+1)+\"_gen\" +\".txt\"\n",
        "    locals()[\"p\"+str(i+1)] = \"pro/\"+\"node\" +str(i+1)+\"_pro\" +\".txt\"\n",
        "    g_arr = np.append(g_arr,np.loadtxt(locals()[\"g\"+str(i+1)], dtype='float64'))\n",
        "    locals()[\"p_arr\"+str(i+1)] = np.loadtxt(locals()[\"p\"+str(i+1)], dtype='float64')\n",
        "\n",
        "p_arr = np.zeros(len(p_arr1)) #max of p_arrx\n",
        "#get max time of nodes \n",
        "for i in range(len(p_arr1)):\n",
        "   p_arr[i] =  max(p_arr1[i],p_arr2[i],p_arr3[i],p_arr4[i],p_arr5[i],p_arr6[i],p_arr7[i],p_arr8[i])  \n",
        "\n",
        "g_arr = np.sort(g_arr) # sort in ascending\n",
        "\n",
        "t_dif = np.array([])\n",
        "t_dif = p_arr - g_arr\n"
      ]
    },
    {
      "cell_type": "markdown",
      "metadata": {},
      "source": []
    },
    {
      "cell_type": "code",
      "execution_count": 3,
      "metadata": {
        "colab": {
          "base_uri": "https://localhost:8080/",
          "height": 691
        },
        "id": "HMTGxDWkvyFe",
        "outputId": "e6a911f7-16cf-45f5-c7ba-1b604f242280"
      },
      "outputs": [
        {
          "data": {
            "image/png": "[encoded data removed]",
            "text/plain": [
              "<Figure size 640x480 with 1 Axes>"
            ]
          },
          "metadata": {},
          "output_type": "display_data"
        }
      ],
      "source": [
        "import numpy as np\n",
        "from matplotlib import pyplot as plt\n",
        "import seaborn as sns\n",
        "# plt.rcParams[\"figure.figsize\"] = [7.50, 3.50]\n",
        "# plt.rcParams[\"figure.autolayout\"] = True\n",
        "\n",
        "\n",
        "# count, bins_count = np.histogram(t_dif, bins=20)\n",
        "# pdf = count / sum(count)\n",
        "# cdf = np.cumsum(pdf)\n",
        "# plt.plot(bins_count[1:], cdf)\n",
        "# plt.title('CDF of 3 nodes without failure') #plt.title('CDF of 8 nodes with failure')\n",
        "# plt.xlabel('time (s)')\n",
        "# plt.ylabel('Probability')\n",
        "# plt.show()\n",
        "\n",
        "sns.ecdfplot(data=t_dif)\n",
        "plt.title('CDF of 3 nodes without failure') #plt.title('CDF of 8 nodes with failure')\n",
        "plt.xlabel('time (s)')\n",
        "plt.ylabel('Probability')\n",
        "plt.show()\n",
        "\n"
      ]
    }
  ],
  "metadata": {
    "colab": {
      "provenance": [],
      "toc_visible": true
    },
    "kernelspec": {
      "display_name": "a2",
      "language": "python",
      "name": "python3"
    },
    "language_info": {
      "codemirror_mode": {
        "name": "ipython",
        "version": 3
      },
      "file_extension": ".py",
      "mimetype": "text/x-python",
      "name": "python",
      "nbconvert_exporter": "python",
      "pygments_lexer": "ipython3",
      "version": "3.9.7"
    },
    "orig_nbformat": 4,
    "vscode": {
      "interpreter": {
        "hash": "3e7ee393bb5261d26cd10d9da4268c4adb509969434e40da4bc7753be9db9866"
      }
    }
  },
  "nbformat": 4,
  "nbformat_minor": 0
}
