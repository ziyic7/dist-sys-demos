{
  "cells": [
    {
      "cell_type": "code",
      "execution_count": 1,
      "metadata": {
        "colab": {
          "base_uri": "https://localhost:8080/"
        },
        "id": "8rNOfQypNuGQ",
        "outputId": "8a627a1a-2e72-481d-b73a-8b76a9358dc0"
      },
      "outputs": [],
      "source": [
        "# TODO: need delete, just for my google colab\n",
        "# from google.colab import drive\n",
        "# drive.mount('/content/drive')"
      ]
    },
    {
      "cell_type": "code",
      "execution_count": 10,
      "metadata": {
        "id": "niAuYpB5MAyf"
      },
      "outputs": [],
      "source": [
        "import os \n",
        "import sys\n",
        "\n",
        "# find the correct dir\n",
        "fpath = \"test/data/3nodes\" #change path to test1 or test2\n",
        "if os.path.basename(os.getcwd()) != '3nodes':\n",
        "    os.chdir(fpath)\n",
        "\n",
        "f1 = \"node1.txt\"\n",
        "f2 = \"node2.txt\"\n",
        "f3 = \"node3.txt\"\n",
        "with open(f1, 'r') as fp:\n",
        "    for count1, line in enumerate(fp):\n",
        "        pass\n",
        "with open(f2, 'r') as fp:\n",
        "    for count2, line in enumerate(fp):\n",
        "        pass\n",
        "with open(f3, 'r') as fp:\n",
        "    for count3, line in enumerate(fp):\n",
        "        pass\n",
        "if count1 == count2 == count3:\n",
        "    pass \n",
        "else:\n",
        "    print(\"file length diff!!\")\n",
        "    print(\"file1 \" + str(count1))\n",
        "    print(\"file2 \" + str(count2))\n",
        "    print(\"file3 \" + str(count3))\n",
        "    sys.exit(\"length mismatch\")\n",
        "\n",
        "\n",
        "file1 = open(f1, 'r')\n",
        "file2 = open(f2, 'r')\n",
        "file3 = open(f3, 'r')\n",
        "\n",
        "  \n",
        "ln = 1\n",
        "while True:\n",
        "    line1 = file1.readline()\n",
        "    line1s = line1.split()\n",
        "\n",
        "    line2 = file2.readline()\n",
        "    line2s = line2.split()\n",
        "\n",
        "    line3 = file3.readline()\n",
        "    line3s = line3.split()\n",
        "    if not line1:\n",
        "        break\n",
        "    #check applications \n",
        "    if line1[0] == 'A' and line2[0] == 'A' and line3[0] == 'A': \n",
        "        if line1 == line2 == line3:\n",
        "            pass\n",
        "        else:\n",
        "            print(\"wrong application call!!\")\n",
        "            for i in range(3):\n",
        "                print(\"file\"+str(i)+\": at line \" + str(ln) + ' ' + str(locals()[\"line\"+str(i+1)])) \n",
        "    elif line1[0] == 'B' and line2[0] == 'B' and line3[0] == 'B':\n",
        "        setval = set(line1s) & set(line2s) & set(line3s)\n",
        "    #checks balances \n",
        "        mismatch = set()\n",
        "        for i in range(3):\n",
        "            for j in range(3):\n",
        "                a = \"line\"+str(i+1)+\"s\"\n",
        "                b = \"line\"+str(j+1)+\"s\"\n",
        "                tmp = set(locals()[a]) - set(locals()[b])\n",
        "                if tmp != set():\n",
        "                    mismatch.add(str(tmp))\n",
        "        if len(setval) != len(line1s) or len(setval) != len(line2s) or len(setval) != len(line3s):\n",
        "            print(\"mismatched balance!! \" + str(mismatch))\n",
        "            for i in range(3):\n",
        "                print(\"file\"+str(i)+\": at line \" + str(ln) + ' ' + str(locals()[\"line\"+str(i+1)]))  \n",
        "    else:\n",
        "        print(\"application balance mismatch at line \" + str(ln))\n",
        "    ln+=1\n",
        "\n",
        "\n",
        "file1.close()\n",
        "file2.close()\n",
        "file3.close()\n",
        "        "
      ]
    },
    {
      "cell_type": "code",
      "execution_count": 3,
      "metadata": {
        "colab": {
          "base_uri": "https://localhost:8080/",
          "height": 691
        },
        "id": "HMTGxDWkvyFe",
        "outputId": "e6a911f7-16cf-45f5-c7ba-1b604f242280"
      },
      "outputs": [
        {
          "data": {
            "text/plain": [
              "'data'"
            ]
          },
          "execution_count": 3,
          "metadata": {},
          "output_type": "execute_result"
        }
      ],
      "source": [
        "import os \n",
        "os.path.basename(os.getcwd())\n"
      ]
    }
  ],
  "metadata": {
    "colab": {
      "provenance": [],
      "toc_visible": true
    },
    "kernelspec": {
      "display_name": "a2",
      "language": "python",
      "name": "python3"
    },
    "language_info": {
      "codemirror_mode": {
        "name": "ipython",
        "version": 3
      },
      "file_extension": ".py",
      "mimetype": "text/x-python",
      "name": "python",
      "nbconvert_exporter": "python",
      "pygments_lexer": "ipython3",
      "version": "3.9.7"
    },
    "orig_nbformat": 4,
    "vscode": {
      "interpreter": {
        "hash": "3e7ee393bb5261d26cd10d9da4268c4adb509969434e40da4bc7753be9db9866"
      }
    }
  },
  "nbformat": 4,
  "nbformat_minor": 0
}
