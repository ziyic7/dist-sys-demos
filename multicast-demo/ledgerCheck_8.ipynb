{
  "cells": [
    {
      "cell_type": "code",
      "execution_count": 61,
      "metadata": {
        "colab": {
          "base_uri": "https://localhost:8080/"
        },
        "id": "8rNOfQypNuGQ",
        "outputId": "8a627a1a-2e72-481d-b73a-8b76a9358dc0"
      },
      "outputs": [
        {
          "name": "stdout",
          "output_type": "stream",
          "text": [
            "Drive already mounted at /content/drive; to attempt to forcibly remount, call drive.mount(\"/content/drive\", force_remount=True).\n"
          ]
        }
      ],
      "source": [
        "# TODO: need delete, just for my google colab\n",
        "# from google.colab import drive\n",
        "# drive.mount('/content/drive')"
      ]
    },
    {
      "cell_type": "code",
      "execution_count": 1,
      "metadata": {
        "id": "niAuYpB5MAyf"
      },
      "outputs": [],
      "source": [
        "import os \n",
        "import sys\n",
        "\n",
        "# find the correct dir\n",
        "fpath = \"test/data/8nodes\" #change path to test1 or test2\n",
        "if os.path.basename(os.getcwd()) != '8nodes':\n",
        "    os.chdir(fpath)\n",
        "\n",
        "f1,f2,f3,f4,f5,f6,f7,f8 =(\"\",)*8\n",
        "for i in range(8):\n",
        "    locals()[\"f\"+str(i+1)] = \"node\" +str(i+1)+\".txt\"\n",
        "    \n",
        "\n",
        "count1,count2,count3,count4,count5,count6,count7,count8 =(0,)*8\n",
        "for i in range(8):\n",
        "    with open(locals()[\"f\"+str(i+1)], 'r') as fp:\n",
        "        for locals()[\"count\"+str(i+1)], line in enumerate(fp):\n",
        "            pass\n",
        "\n",
        "\n",
        "if count1 == count2 == count3 == count4 == count5 == count6 == count7 == count8:\n",
        "    pass \n",
        "else:\n",
        "    print(\"file length diff!!\")\n",
        "    for i in range(8):\n",
        "        print(\"file\"+str(i+1)+\": at line \" + str(locals()[\"count\"+str(i+1)]))  \n",
        "    sys.exit(\"length mismatch\")\n",
        "\n",
        "\n",
        "file1 = open(f1, 'r')\n",
        "file2 = open(f2, 'r')\n",
        "file3 = open(f3, 'r')\n",
        "file4 = open(f4, 'r')\n",
        "file5 = open(f5, 'r')\n",
        "file6 = open(f6, 'r')\n",
        "file7 = open(f7, 'r')\n",
        "file8 = open(f8, 'r')\n",
        "\n",
        "ln = 1\n",
        "while True:\n",
        "    line1 = file1.readline()\n",
        "    line1s = line1.split()\n",
        "\n",
        "    line2 = file2.readline()\n",
        "    line2s = line2.split()\n",
        "\n",
        "    line3 = file3.readline()\n",
        "    line3s = line3.split()\n",
        "\n",
        "    line4 = file4.readline()\n",
        "    line4s = line4.split()\n",
        "\n",
        "    line5 = file5.readline()\n",
        "    line5s = line5.split()\n",
        "\n",
        "    line6 = file6.readline()\n",
        "    line6s = line6.split()\n",
        "\n",
        "    line7 = file7.readline()\n",
        "    line7s = line7.split()\n",
        "\n",
        "    line8 = file8.readline()\n",
        "    line8s = line8.split()\n",
        "    if not line1:\n",
        "        break\n",
        "    #check applications \n",
        "    if line1[0] == 'A' and line2[0] == 'A' and line3[0] == 'A' and line4[0] == 'A' and line5[0] == 'A' and line6[0] == 'A' and line7[0] == 'A' and line8[0] == 'A': \n",
        "        if line1 == line2 == line3 == line4 == line5 == line6 == line7 == line8:\n",
        "            pass\n",
        "        else:\n",
        "            print(\"wrong application call!!\")\n",
        "            for i in range(8):\n",
        "                print(\"file\"+str(i+1)+\": at line \" + str(ln) + ' ' + str(locals()[\"line\"+str(i+1)]))  \n",
        "    elif line1[0] == 'B' and line2[0] == 'B' and line3[0] == 'B' and line4[0] == 'B' and line5[0] == 'B' and line6[0] == 'B' and line7[0] == 'B' and line8[0] == 'B':\n",
        "        setval = set(line1s) & set(line2s) & set(line3s) & set(line4s) & set(line5s) & set(line6s) & set(line7s) & set(line8s)\n",
        "    #checks balances \n",
        "        mismatch = set()\n",
        "        for i in range(8):\n",
        "            for j in range(8):\n",
        "                a = \"line\"+str(i+1)+\"s\"\n",
        "                b = \"line\"+str(j+1)+\"s\"\n",
        "                tmp = set(locals()[a]) - set(locals()[b])\n",
        "                if tmp != set():\n",
        "                    mismatch.add(str(tmp))\n",
        "        if len(setval) != len(line1s) or len(setval) != len(line2s) or len(setval) != len(line3s) or len(setval) != len(line4s) or len(setval) != len(line5s) or len(setval) != len(line6s) or len(setval) != len(line7s) or len(setval) != len(line8s):\n",
        "            print(\"mismatched balance!! \"+ str(mismatch))\n",
        "            for i in range(8):\n",
        "                print(\"file\"+str(i+1)+\": at line \" + str(ln) + ' ' + str(locals()[\"line\"+str(i+1)]))  \n",
        "    else:\n",
        "        print(\"application balance mismatch at line \" + str(ln))\n",
        "    ln+=1\n",
        "\n",
        "\n",
        "file1.close()\n",
        "file2.close()\n",
        "file3.close()\n",
        "file4.close()\n",
        "file5.close()\n",
        "file6.close()\n",
        "file7.close()\n",
        "file8.close()\n",
        "        "
      ]
    },
    {
      "cell_type": "markdown",
      "metadata": {},
      "source": []
    },
    {
      "cell_type": "code",
      "execution_count": 3,
      "metadata": {
        "colab": {
          "base_uri": "https://localhost:8080/",
          "height": 691
        },
        "id": "HMTGxDWkvyFe",
        "outputId": "e6a911f7-16cf-45f5-c7ba-1b604f242280"
      },
      "outputs": [
        {
          "data": {
            "text/plain": [
              "'data'"
            ]
          },
          "execution_count": 3,
          "metadata": {},
          "output_type": "execute_result"
        }
      ],
      "source": [
        "import os \n",
        "os.path.basename(os.getcwd())\n"
      ]
    }
  ],
  "metadata": {
    "colab": {
      "provenance": [],
      "toc_visible": true
    },
    "kernelspec": {
      "display_name": "a2",
      "language": "python",
      "name": "python3"
    },
    "language_info": {
      "codemirror_mode": {
        "name": "ipython",
        "version": 3
      },
      "file_extension": ".py",
      "mimetype": "text/x-python",
      "name": "python",
      "nbconvert_exporter": "python",
      "pygments_lexer": "ipython3",
      "version": "3.9.7"
    },
    "orig_nbformat": 4,
    "vscode": {
      "interpreter": {
        "hash": "3e7ee393bb5261d26cd10d9da4268c4adb509969434e40da4bc7753be9db9866"
      }
    }
  },
  "nbformat": 4,
  "nbformat_minor": 0
}
